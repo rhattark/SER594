{
 "cells": [
  {
   "cell_type": "code",
   "execution_count": 7,
   "id": "37e034f3-ef56-48e5-862d-7020d96390e1",
   "metadata": {},
   "outputs": [],
   "source": [
    "import matplotlib.pyplot as plt\n",
    "import numpy as np\n",
    "import csv\n",
    "\n",
    "__author__ = \"Rhishabh Hattarki\"\n",
    "__date__ = \"11 October 2023\"\n",
    "__assignment = \"SER594: Homework 3 Q3 Programming\""
   ]
  },
  {
   "cell_type": "code",
   "execution_count": 28,
   "id": "f435c04d-6255-4999-8faf-67963aec327f",
   "metadata": {},
   "outputs": [],
   "source": [
    "# load csv file,\n",
    "# columns is a list of all column names,\n",
    "# data is a 2d list of all rows within every column\n",
    "# eg if columns are A, B, C, data will be [[rows_of_A], [rows_of_B], [rows_of_C]]\n",
    "def load_csv_file(input_filename):\n",
    "    columns = []\n",
    "    col_len = 0\n",
    "    data = []\n",
    "    line_count = 0\n",
    "    \n",
    "    with open(input_filename, 'r') as csv_file:\n",
    "        csv_reader = csv.reader(csv_file, delimiter=',')\n",
    "        \n",
    "        for row in csv_reader:\n",
    "            if line_count == 0:\n",
    "                columns = row.copy()\n",
    "                col_len = len(columns)\n",
    "                data = [[] for _col in range(col_len)]\n",
    "            else:\n",
    "                for (i, col) in enumerate(row):\n",
    "                    data[i].append(col)\n",
    "            line_count += 1\n",
    "\n",
    "    print(f'Read {line_count} lines from file {input_filename}')\n",
    "    return (columns, data)"
   ]
  },
  {
   "cell_type": "code",
   "execution_count": 81,
   "id": "edc4417a-cdd1-41cf-8848-d9bd248d641b",
   "metadata": {},
   "outputs": [],
   "source": [
    "def clean_views(columns, data):\n",
    "    idx = columns.index('Total_Views')\n",
    "    views_data = data[idx]\n",
    "    cleaned_views_data = []\n",
    "    empty = 0\n",
    "    cleaned = 0\n",
    "\n",
    "    for row in views_data:\n",
    "        if row == '':\n",
    "            empty += 1\n",
    "            cleaned_views_data.append(0)\n",
    "            continue\n",
    "            \n",
    "        unit_removed = row.rstrip(' view').rstrip(' views')\n",
    "        converted_view = 0\n",
    "\n",
    "        if unit_removed.startswith('Premieres') or unit_removed.startswith('No'):\n",
    "            converted_view = 0\n",
    "        elif unit_removed.endswith('K'):\n",
    "            converted_view = float(unit_removed.rstrip('K')) * 1000\n",
    "        elif unit_removed.endswith('M'):\n",
    "            converted_view = float(unit_removed.rstrip('M')) * 1000_000\n",
    "        elif unit_removed.endswith('B'):\n",
    "            converted_view = float(unit_removed.rstrip('B')) * 1000_000_000\n",
    "        else:\n",
    "            converted_view = float(unit_removed)\n",
    "\n",
    "        cleaned_views_data.append(converted_view)\n",
    "        cleaned += 1\n",
    "\n",
    "    print(f'Cleaned {cleaned} rows in views column and {empty} were empty')\n",
    "    return columns, cleaned_views_data"
   ]
  },
  {
   "cell_type": "code",
   "execution_count": 82,
   "id": "cd7b72d8-f435-46e2-9b1a-de6643fe4fff",
   "metadata": {},
   "outputs": [],
   "source": [
    "def clean_dates(columns, data):\n",
    "    return columns, data"
   ]
  },
  {
   "cell_type": "code",
   "execution_count": 83,
   "id": "3603941f-7d57-435e-8c01-06bea4a51003",
   "metadata": {},
   "outputs": [],
   "source": [
    "def preprocess_data(columns, data):\n",
    "    view_cols, views_cleaned = clean_views(columns, data)\n",
    "    date_cols, dates_cleaned = clean_dates(view_cols, views_cleaned)\n",
    "\n",
    "    return date_cols, dates_cleaned"
   ]
  },
  {
   "cell_type": "code",
   "execution_count": 84,
   "id": "dada01b9-1ffa-4fe3-a801-4b8a97d3a7ff",
   "metadata": {},
   "outputs": [],
   "source": [
    "def do_stuff(input_filename):\n",
    "    \"\"\"\n",
    "    See homework assignment.\n",
    "    :param input_filename: Filename for input datafile.\n",
    "    \"\"\"\n",
    "\n",
    "    columns, data = load_csv_file(input_filename)\n",
    "    prepro_cols, prepro_data = preprocess_data(columns, data)"
   ]
  },
  {
   "cell_type": "code",
   "execution_count": 85,
   "id": "69547d96-4d19-45be-9c43-5277ef02c635",
   "metadata": {},
   "outputs": [
    {
     "name": "stdout",
     "output_type": "stream",
     "text": [
      "Read 1559 lines from file HW03_Kaggle_Youtube_DataScience.csv\n",
      "Cleaned 1558 rows in views column and 0 were empty\n"
     ]
    }
   ],
   "source": [
    "if __name__ == '__main__':\n",
    "    filename = \"HW03_Kaggle_Youtube_DataScience.csv\"\n",
    "    do_stuff(filename)"
   ]
  },
  {
   "cell_type": "code",
   "execution_count": null,
   "id": "ace00e5f-505f-470c-9ed8-4b9fa33fa0a1",
   "metadata": {},
   "outputs": [],
   "source": []
  }
 ],
 "metadata": {
  "kernelspec": {
   "display_name": "Python 3 (ipykernel)",
   "language": "python",
   "name": "python3"
  },
  "language_info": {
   "codemirror_mode": {
    "name": "ipython",
    "version": 3
   },
   "file_extension": ".py",
   "mimetype": "text/x-python",
   "name": "python",
   "nbconvert_exporter": "python",
   "pygments_lexer": "ipython3",
   "version": "3.11.5"
  }
 },
 "nbformat": 4,
 "nbformat_minor": 5
}
